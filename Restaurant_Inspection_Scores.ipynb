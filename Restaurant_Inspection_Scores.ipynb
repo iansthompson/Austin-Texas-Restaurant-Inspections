{
 "cells": [
  {
   "cell_type": "markdown",
   "id": "4d6cd964",
   "metadata": {},
   "source": [
    "This notebook will illustrate data cleaning techniques for the Austin Texas Resturaunt Inspections Dataset https://data.world/adamhelsinger/austin-restaurant-inspections"
   ]
  },
  {
   "cell_type": "code",
   "execution_count": 13,
   "id": "31f651bd",
   "metadata": {},
   "outputs": [],
   "source": [
    "import pandas as pd\n",
    "import numpy as np\n",
    "import re"
   ]
  },
  {
   "cell_type": "code",
   "execution_count": 2,
   "id": "66a75407",
   "metadata": {
    "scrolled": true
   },
   "outputs": [
    {
     "name": "stdout",
     "output_type": "stream",
     "text": [
      "<class 'pandas.core.frame.DataFrame'>\n",
      "RangeIndex: 25033 entries, 0 to 25032\n",
      "Data columns (total 7 columns):\n",
      " #   Column               Non-Null Count  Dtype \n",
      "---  ------               --------------  ----- \n",
      " 0   Restaurant_Name      25033 non-null  object\n",
      " 1   Zip_Code             25033 non-null  object\n",
      " 2   Inspection_Date      25033 non-null  object\n",
      " 3   Score                25033 non-null  int64 \n",
      " 4   Address              25033 non-null  object\n",
      " 5   Facility_ID          25033 non-null  int64 \n",
      " 6   Process_Description  25033 non-null  object\n",
      "dtypes: int64(2), object(5)\n",
      "memory usage: 1.3+ MB\n"
     ]
    }
   ],
   "source": [
    "df = pd.read_csv('/home/novascott/Dev/NYC-OpenData/Restaurant_Inspection_Scores.csv')\n",
    "df.columns = list(map(lambda x: x.replace(' ', '_'), df.columns))\n",
    "df.info()"
   ]
  },
  {
   "cell_type": "code",
   "execution_count": 3,
   "id": "3dce0e68",
   "metadata": {
    "scrolled": true
   },
   "outputs": [
    {
     "data": {
      "text/plain": [
       "1"
      ]
     },
     "execution_count": 3,
     "metadata": {},
     "output_type": "execute_result"
    }
   ],
   "source": [
    "#Check for and Remove Duplicate Rows\n",
    "df.duplicated().sum()"
   ]
  },
  {
   "cell_type": "code",
   "execution_count": 4,
   "id": "19f55ff0",
   "metadata": {},
   "outputs": [],
   "source": [
    "df = df.drop_duplicates()"
   ]
  },
  {
   "cell_type": "code",
   "execution_count": 6,
   "id": "4cbe4ac7",
   "metadata": {},
   "outputs": [],
   "source": [
    "# Restructing Dataframe:\n",
    "applied_df = df['Address']\n",
    "# Splitting Address Column to 3 seperate Columns\n",
    "applied_df = applied_df.str.split(pat='\\n', expand=True)\n",
    "applied_df.columns = ['St Address','City','Location']\n",
    "applied_df = applied_df['Location'].apply(lambda x: x.replace('(','').replace(')',''))\n",
    "# Split Location to serperate longitude and latitude columns\n",
    "ltlng_df = applied_df.str.split(pat=',', expand=True)\n",
    "ltlng_df.columns = ['Latitude','Longitude']\n",
    "# Inconsistant data, changing strings with \"na\", \"nan\", etc with numpy nan values\n",
    "ltlng_df.replace(to_replace=['','nan','NaN',None], value=np.nan, inplace=True)\n",
    "#  Properly casting types to specified columns\n",
    "ltlng_df = ltlng_df.astype(float)\n",
    "df = pd.concat([df, applied_df, ltlng_df], axis='columns')"
   ]
  },
  {
   "cell_type": "code",
   "execution_count": 7,
   "id": "dc2891b2",
   "metadata": {},
   "outputs": [],
   "source": [
    "# Castinf column as datetime format\n",
    "df['Inspection_Date'] = pd.to_datetime(df['Inspection_Date'],format='%m/%d/%Y')\n",
    "# Creating New columns year, month, day, and day of the week based datetime\n",
    "df['Year'] = df['Inspection_Date'].dt.year\n",
    "df['Month'] = df['Inspection_Date'].dt.month\n",
    "df['Day'] = df['Inspection_Date'].dt.day\n",
    "df['Weekday'] = df['Inspection_Date'].dt.day_name()"
   ]
  },
  {
   "cell_type": "code",
   "execution_count": 8,
   "id": "725244ef",
   "metadata": {},
   "outputs": [
    {
     "data": {
      "text/html": [
       "<div>\n",
       "<style scoped>\n",
       "    .dataframe tbody tr th:only-of-type {\n",
       "        vertical-align: middle;\n",
       "    }\n",
       "\n",
       "    .dataframe tbody tr th {\n",
       "        vertical-align: top;\n",
       "    }\n",
       "\n",
       "    .dataframe thead th {\n",
       "        text-align: right;\n",
       "    }\n",
       "</style>\n",
       "<table border=\"1\" class=\"dataframe\">\n",
       "  <thead>\n",
       "    <tr style=\"text-align: right;\">\n",
       "      <th></th>\n",
       "      <th>Restaurant_Name</th>\n",
       "      <th>Zip_Code</th>\n",
       "      <th>Inspection_Date</th>\n",
       "      <th>Score</th>\n",
       "      <th>Address</th>\n",
       "      <th>Facility_ID</th>\n",
       "      <th>Process_Description</th>\n",
       "      <th>Location</th>\n",
       "      <th>Latitude</th>\n",
       "      <th>Longitude</th>\n",
       "      <th>Year</th>\n",
       "      <th>Month</th>\n",
       "      <th>Day</th>\n",
       "      <th>Weekday</th>\n",
       "      <th>Franchise</th>\n",
       "    </tr>\n",
       "  </thead>\n",
       "  <tbody>\n",
       "    <tr>\n",
       "      <th>0</th>\n",
       "      <td>Williams Sonoma #706</td>\n",
       "      <td>78746</td>\n",
       "      <td>2015-06-16</td>\n",
       "      <td>85</td>\n",
       "      <td>2901 S CAPITAL OF TEXAS HWY NB\\nAUSTIN, TX 787...</td>\n",
       "      <td>2801932</td>\n",
       "      <td>Routine Inspection</td>\n",
       "      <td>30.254658, -97.809462</td>\n",
       "      <td>30.254658</td>\n",
       "      <td>-97.809462</td>\n",
       "      <td>2015</td>\n",
       "      <td>6</td>\n",
       "      <td>16</td>\n",
       "      <td>Tuesday</td>\n",
       "      <td>True</td>\n",
       "    </tr>\n",
       "    <tr>\n",
       "      <th>1</th>\n",
       "      <td>Whisler's</td>\n",
       "      <td>78702</td>\n",
       "      <td>2015-01-06</td>\n",
       "      <td>83</td>\n",
       "      <td>1816 E 6TH ST\\nAUSTIN, TX 78702\\n(30.261738, -...</td>\n",
       "      <td>10928995</td>\n",
       "      <td>Routine Inspection</td>\n",
       "      <td>30.261738, -97.722685</td>\n",
       "      <td>30.261738</td>\n",
       "      <td>-97.722685</td>\n",
       "      <td>2015</td>\n",
       "      <td>1</td>\n",
       "      <td>6</td>\n",
       "      <td>Tuesday</td>\n",
       "      <td>False</td>\n",
       "    </tr>\n",
       "    <tr>\n",
       "      <th>2</th>\n",
       "      <td>Whataburger #347</td>\n",
       "      <td>78757</td>\n",
       "      <td>2016-06-03</td>\n",
       "      <td>97</td>\n",
       "      <td>2801 W ANDERSON LN\\nAUSTIN, TX 78757\\n(30.3589...</td>\n",
       "      <td>2800287</td>\n",
       "      <td>Routine Inspection</td>\n",
       "      <td>30.358957, -97.736956</td>\n",
       "      <td>30.358957</td>\n",
       "      <td>-97.736956</td>\n",
       "      <td>2016</td>\n",
       "      <td>6</td>\n",
       "      <td>3</td>\n",
       "      <td>Friday</td>\n",
       "      <td>True</td>\n",
       "    </tr>\n",
       "    <tr>\n",
       "      <th>3</th>\n",
       "      <td>Westin Austin Downtown</td>\n",
       "      <td>78701</td>\n",
       "      <td>2016-03-07</td>\n",
       "      <td>76</td>\n",
       "      <td>310 E 5TH ST\\nAUSTIN, TX 78701\\n(30.26632, -97...</td>\n",
       "      <td>11377565</td>\n",
       "      <td>Routine Inspection</td>\n",
       "      <td>30.26632, -97.740282</td>\n",
       "      <td>30.266320</td>\n",
       "      <td>-97.740282</td>\n",
       "      <td>2016</td>\n",
       "      <td>3</td>\n",
       "      <td>7</td>\n",
       "      <td>Monday</td>\n",
       "      <td>False</td>\n",
       "    </tr>\n",
       "    <tr>\n",
       "      <th>4</th>\n",
       "      <td>Whistle Stop Grocery/La Mexicana</td>\n",
       "      <td>78753</td>\n",
       "      <td>2015-05-18</td>\n",
       "      <td>81</td>\n",
       "      <td>834 E RUNDBERG LN Bldg B\\nAUSTIN, TX 78753\\n(3...</td>\n",
       "      <td>2803636</td>\n",
       "      <td>Routine Inspection</td>\n",
       "      <td>30.35723, -97.686114</td>\n",
       "      <td>30.357230</td>\n",
       "      <td>-97.686114</td>\n",
       "      <td>2015</td>\n",
       "      <td>5</td>\n",
       "      <td>18</td>\n",
       "      <td>Monday</td>\n",
       "      <td>False</td>\n",
       "    </tr>\n",
       "  </tbody>\n",
       "</table>\n",
       "</div>"
      ],
      "text/plain": [
       "                    Restaurant_Name Zip_Code Inspection_Date  Score  \\\n",
       "0              Williams Sonoma #706    78746      2015-06-16     85   \n",
       "1                         Whisler's    78702      2015-01-06     83   \n",
       "2                  Whataburger #347    78757      2016-06-03     97   \n",
       "3            Westin Austin Downtown    78701      2016-03-07     76   \n",
       "4  Whistle Stop Grocery/La Mexicana    78753      2015-05-18     81   \n",
       "\n",
       "                                             Address  Facility_ID  \\\n",
       "0  2901 S CAPITAL OF TEXAS HWY NB\\nAUSTIN, TX 787...      2801932   \n",
       "1  1816 E 6TH ST\\nAUSTIN, TX 78702\\n(30.261738, -...     10928995   \n",
       "2  2801 W ANDERSON LN\\nAUSTIN, TX 78757\\n(30.3589...      2800287   \n",
       "3  310 E 5TH ST\\nAUSTIN, TX 78701\\n(30.26632, -97...     11377565   \n",
       "4  834 E RUNDBERG LN Bldg B\\nAUSTIN, TX 78753\\n(3...      2803636   \n",
       "\n",
       "  Process_Description               Location   Latitude  Longitude  Year  \\\n",
       "0  Routine Inspection  30.254658, -97.809462  30.254658 -97.809462  2015   \n",
       "1  Routine Inspection  30.261738, -97.722685  30.261738 -97.722685  2015   \n",
       "2  Routine Inspection  30.358957, -97.736956  30.358957 -97.736956  2016   \n",
       "3  Routine Inspection   30.26632, -97.740282  30.266320 -97.740282  2016   \n",
       "4  Routine Inspection   30.35723, -97.686114  30.357230 -97.686114  2015   \n",
       "\n",
       "   Month  Day  Weekday  Franchise  \n",
       "0      6   16  Tuesday       True  \n",
       "1      1    6  Tuesday      False  \n",
       "2      6    3   Friday       True  \n",
       "3      3    7   Monday      False  \n",
       "4      5   18   Monday      False  "
      ]
     },
     "execution_count": 8,
     "metadata": {},
     "output_type": "execute_result"
    }
   ],
   "source": [
    "# Creating Boolean Type Column if a resturaunt is a franchise.\n",
    "#Looks at the resturaunt name column and looks for a \"#\" string that suggests franchising\n",
    "franchise_df = df['Restaurant_Name']\n",
    "franchise_df = franchise_df.str.contains('#', regex=False)\n",
    "franchise_df.name = 'Franchise'\n",
    "df = pd.concat([df, franchise_df], axis='columns')\n",
    "df.set_index('Restaurant_Name')\n",
    "df.head()"
   ]
  },
  {
   "cell_type": "code",
   "execution_count": 9,
   "id": "8b329ae2",
   "metadata": {},
   "outputs": [
    {
     "data": {
      "text/plain": [
       "array(['78746', '78702', '78757', '78701', '78753', '78751', '78723',\n",
       "       '78752', '78733', '78703', '78749', '78617', '78745', '78759',\n",
       "       '78758', '78729', '78705', '78704', '78728', '78731', '78741',\n",
       "       '78660', '78613', '78750', '78748', '78744', '78721', '78724',\n",
       "       '78652', '78717', '78669', '78726', '78732', '78727', '78722',\n",
       "       '78734', '78754', '78756', '78719', '78653', '78735', '78738',\n",
       "       '78739', '78730', '78737', '78612', '78747', '78725', '78736',\n",
       "       '78654', '78620', '78742', '6\\nAustin, TX  78741', '78641',\n",
       "       'Hwy 290 E\\nAustin TX  78723', '78615'], dtype=object)"
      ]
     },
     "execution_count": 9,
     "metadata": {},
     "output_type": "execute_result"
    }
   ],
   "source": [
    "# Checking for consistant data in the zip code column \n",
    "df.Zip_Code.unique()"
   ]
  },
  {
   "cell_type": "code",
   "execution_count": 14,
   "id": "436acb1d",
   "metadata": {},
   "outputs": [],
   "source": [
    "# Taking zip code columns strings and looking for zip codes using regex \n",
    "df['Zip_Code'] = df['Zip_Code'].apply(lambda x: \"\".join(map(str,re.findall(\"[0-9]{5}(?:-[0-9]{4})?\", x))))"
   ]
  },
  {
   "cell_type": "code",
   "execution_count": 15,
   "id": "d73a3fe5",
   "metadata": {},
   "outputs": [
    {
     "data": {
      "text/plain": [
       "array(['78746', '78702', '78757', '78701', '78753', '78751', '78723',\n",
       "       '78752', '78733', '78703', '78749', '78617', '78745', '78759',\n",
       "       '78758', '78729', '78705', '78704', '78728', '78731', '78741',\n",
       "       '78660', '78613', '78750', '78748', '78744', '78721', '78724',\n",
       "       '78652', '78717', '78669', '78726', '78732', '78727', '78722',\n",
       "       '78734', '78754', '78756', '78719', '78653', '78735', '78738',\n",
       "       '78739', '78730', '78737', '78612', '78747', '78725', '78736',\n",
       "       '78654', '78620', '78742', '78641', '78615'], dtype=object)"
      ]
     },
     "execution_count": 15,
     "metadata": {},
     "output_type": "execute_result"
    }
   ],
   "source": [
    "# Double Checking for consistant data\n",
    "df.Zip_Code.unique()"
   ]
  },
  {
   "cell_type": "code",
   "execution_count": 16,
   "id": "d3b89458",
   "metadata": {},
   "outputs": [],
   "source": [
    "# Saving externally as XLSX File\n",
    "df.to_excel('.../Restaurant_Inspection_Scores(Clean).xlsx',header=df.columns,index=False,index_label=df.columns)"
   ]
  }
 ],
 "metadata": {
  "kernelspec": {
   "display_name": "Python 3 (ipykernel)",
   "language": "python",
   "name": "python3"
  },
  "language_info": {
   "codemirror_mode": {
    "name": "ipython",
    "version": 3
   },
   "file_extension": ".py",
   "mimetype": "text/x-python",
   "name": "python",
   "nbconvert_exporter": "python",
   "pygments_lexer": "ipython3",
   "version": "3.9.7"
  }
 },
 "nbformat": 4,
 "nbformat_minor": 5
}
